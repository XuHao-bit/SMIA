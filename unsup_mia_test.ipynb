{
 "cells": [
  {
   "cell_type": "code",
   "execution_count": 29,
   "metadata": {},
   "outputs": [],
   "source": [
    "import torch\n",
    "import torch.nn as nn\n",
    "import numpy as np\n",
    "from sklearn.metrics import f1_score, roc_auc_score, accuracy_score\n",
    "from sklearn.model_selection import train_test_split\n",
    "import random\n",
    "import copy\n",
    "import pandas as pd\n",
    "from utils import *\n",
    "import pickle\n",
    "from arg_parser import *"
   ]
  },
  {
   "cell_type": "code",
   "execution_count": 30,
   "metadata": {},
   "outputs": [],
   "source": [
    "def boolean_string(s):\n",
    "    if s not in {'False', 'True'}:\n",
    "        raise ValueError('Not a valid boolean string')\n",
    "    return s == 'True'\n",
    "\n",
    "parser = argparse.ArgumentParser() \n",
    "parser.add_argument('--dataset', default='ciao')\n",
    "parser.add_argument('--model_name', default=\"DESIGN\")  \n",
    "\n",
    "parser.add_argument('--gpu_id', default=0, type=int)\n",
    "# training hyper_parameter\n",
    "parser.add_argument('--batch_size', default=1024, type=int)\n",
    "parser.add_argument('--learning_rate', default=0.001, type=float)\n",
    "parser.add_argument('--num_epoch', default=200, type=int)\n",
    "parser.add_argument('--hop', default=2, type=int) # 3\n",
    "parser.add_argument('--hidden', default=64, type=int)\n",
    "parser.add_argument('--dropout', default=0.5, type=float)\n",
    "parser.add_argument('--neg', default=1, type=int) # \n",
    "# parser.add_argument('--split', default=0.8, type=float)\n",
    "parser.add_argument('--std', default=0.1, type=float) \n",
    "parser.add_argument('--decay', default=1e-4, type=float)\n",
    "\n",
    "# IDGL hyper_parameter \n",
    "parser.add_argument('--graph_learn_hidden_size', default=70, type=int)\n",
    "parser.add_argument('--graph_learn_top_k_S', default=30, type=int) \n",
    "parser.add_argument('--graph_learn_epsilon', default=0, type=float)\n",
    "parser.add_argument('--graph_skip_conn', default=0.8, type=float)\n",
    "parser.add_argument('--graph_learn_num_pers', default=4, type=int)\n",
    "parser.add_argument('--metric_type', default='weighted_cosine', type=str)\n",
    "\n",
    "# ssl hyper_parameter\n",
    "parser.add_argument('--ssl_temp', default=0.2, type=float)\n",
    "parser.add_argument('--ssl_reg', default=1e-6, type=float) # 0.1/0.2\n",
    "parser.add_argument('--ssl_ratio', default=0.1, type=float) \n",
    "parser.add_argument('--ssl_aug_type', default='ed', type=str) \n",
    "\n",
    "# recon hyper_parameter\n",
    "parser.add_argument('--recon_reg', default=0.2, type=float)\n",
    "parser.add_argument('--recon_drop', default=0.8, type=float)\n",
    "\n",
    "# kl hyper_parameter\n",
    "parser.add_argument('--kl_reg', default=1, type=float)\n",
    "\n",
    "# test \n",
    "parser.add_argument('--mtd', default='UI', type=str) \n",
    "parser.add_argument('--is_shadow', type=boolean_string, default=False) \n",
    "parser.add_argument('--seed', default=42, type=int) \n",
    "\n",
    "\n",
    "args = parser.parse_known_args()[0]\n",
    "\n",
    "pref = '../raw dataset/'\n",
    "# train target rec model\n",
    "if not args.is_shadow:\n",
    "    if args.dataset == 'ciao':\n",
    "        data_name = 'ciao20230314.pkl'\n",
    "    elif args.dataset == 'flickr':\n",
    "        data_name = 'flickr20241204.pkl'\n",
    "    elif args.dataset == 'yelp':\n",
    "        data_name = 'yelp_small.pkl'\n",
    "\n",
    "args.data_dir = pref + args.dataset + '/' + data_name\n"
   ]
  },
  {
   "cell_type": "code",
   "execution_count": 35,
   "metadata": {},
   "outputs": [
    {
     "name": "stdout",
     "output_type": "stream",
     "text": [
      "   user1  user2  y\n",
      "0   3904   2158  1\n",
      "1   2683   3377  1\n",
      "2    203    282  1\n",
      "3    151    875  1\n",
      "4   7101   5234  0\n"
     ]
    }
   ],
   "source": [
    "import pickle\n",
    "\n",
    "def calculate_jaccard_similarity(user_items, user1, user2, topk=30):\n",
    "    set1 = set(user_items[user1][:topk])\n",
    "    set2 = set(user_items[user2][:topk])    \n",
    "    intersection = len(set1.intersection(set2))\n",
    "    union = len(set1.union(set2))\n",
    "    if union == 0:\n",
    "        return 0  \n",
    "    return intersection / union\n",
    "\n",
    "\n",
    "def calculate_cosine_similarity(user_items, user1, user2, topk=30):\n",
    "    set1 = set(user_items[user1][:topk])\n",
    "    set2 = set(user_items[user2][:topk])    \n",
    "    intersection = len(set1.intersection(set2))\n",
    "    union = len(set1) * len(set2)\n",
    "    if union == 0:\n",
    "        return 0  \n",
    "    return intersection / union\n",
    "\n",
    "\n",
    "from torch.utils.data import Dataset, DataLoader\n",
    "\n",
    "args.dataset = 'ciao'\n",
    "# args.dataset = 'flickr'\n",
    "config = vars(args)\n",
    "test_file = './social_mia/DESIGN-ciao-final.pth/mia_test_shadow_0.1_ciao_DESIGN-ciao-final.pth-top30-pp.pkl.csv'\n",
    "# test_file = './social_mia/DESIGN-flickr-final.pth/mia_test_shadow_0.1_flickr_DESIGN-flickr-final.pth-top30-pp.pkl.csv'\n",
    "config['test_path'] = test_file\n",
    "\n",
    "data_dir = './social_mia/DiffNet-ciao-final.pth/ciao_DiffNet-ciao-final.pth-top30-pp.pkl'\n",
    "data_file = open(data_dir, 'rb')\n",
    "ui_rec_dict = pickle.load(data_file)\n",
    "test_raw_data = pd.read_csv(config['test_path'])\n",
    "print(test_raw_data.head())"
   ]
  },
  {
   "cell_type": "code",
   "execution_count": 36,
   "metadata": {},
   "outputs": [
    {
     "name": "stdout",
     "output_type": "stream",
     "text": [
      "113606\n"
     ]
    },
    {
     "name": "stderr",
     "output_type": "stream",
     "text": [
      "113606it [00:00, 162258.30it/s]"
     ]
    },
    {
     "name": "stdout",
     "output_type": "stream",
     "text": [
      "jaccard auc 0.6172832783063888\n"
     ]
    },
    {
     "name": "stderr",
     "output_type": "stream",
     "text": [
      "\n"
     ]
    }
   ],
   "source": [
    "from tqdm import tqdm\n",
    "from sklearn.metrics import roc_auc_score, precision_score, recall_score, f1_score\n",
    "\n",
    "test_yhat, test_y = [], []\n",
    "print(len(test_raw_data))\n",
    "for idx, row in enumerate(tqdm(test_raw_data.itertuples())):\n",
    "    u1, u2, y = row.user1, row.user2, row.y\n",
    "    yhat = calculate_jaccard_similarity(ui_rec_dict, u1, u2)\n",
    "    # print(y, yhat)\n",
    "    test_yhat.append(yhat)\n",
    "    test_y.append(y)\n",
    "\n",
    "record = roc_auc_score(test_y, test_yhat)\n",
    "\n",
    "print('jaccard auc', record)"
   ]
  },
  {
   "cell_type": "code",
   "execution_count": 37,
   "metadata": {},
   "outputs": [
    {
     "name": "stdout",
     "output_type": "stream",
     "text": [
      "113606\n"
     ]
    },
    {
     "name": "stderr",
     "output_type": "stream",
     "text": [
      "113606it [00:00, 230662.56it/s]"
     ]
    },
    {
     "name": "stdout",
     "output_type": "stream",
     "text": [
      "cosine auc 0.6172832783063888\n"
     ]
    },
    {
     "name": "stderr",
     "output_type": "stream",
     "text": [
      "\n"
     ]
    }
   ],
   "source": [
    "from tqdm import tqdm\n",
    "from sklearn.metrics import roc_auc_score, precision_score, recall_score, f1_score\n",
    "\n",
    "test_yhat, test_y = [], []\n",
    "print(len(test_raw_data))\n",
    "for idx, row in enumerate(tqdm(test_raw_data.itertuples())):\n",
    "    u1, u2, y = row.user1, row.user2, row.y\n",
    "    yhat = calculate_cosine_similarity(ui_rec_dict, u1, u2)\n",
    "    # print(y, yhat)\n",
    "    test_yhat.append(yhat)\n",
    "    test_y.append(y)\n",
    "\n",
    "record = roc_auc_score(test_y, test_yhat)\n",
    "\n",
    "print('cosine auc', record)"
   ]
  },
  {
   "cell_type": "code",
   "execution_count": null,
   "metadata": {},
   "outputs": [],
   "source": [
    "record = roc_auc_score(test_y, test_yhat)\n",
    "\n",
    "print('auc', record)\n",
    "\n",
    "thres = [0.5, 0.4, 0.3, 0.2, 0.1, 0.01, 0.001, 0.0001, 0.00001]\n",
    "for t in thres:\n",
    "    test_yhat_pred = [1 if x > t else 0 for x in test_yhat]\n",
    "    recall = recall_score(test_y, test_yhat_pred)\n",
    "    precision = precision_score(test_y, test_yhat_pred)\n",
    "    f1 = f1_score(test_y, test_yhat_pred)\n",
    "    print(f'recall: {recall}, precision: {precision}, f1: {f1}')"
   ]
  },
  {
   "cell_type": "code",
   "execution_count": 27,
   "metadata": {},
   "outputs": [
    {
     "name": "stdout",
     "output_type": "stream",
     "text": [
      "0.56, 0.5555\n"
     ]
    }
   ],
   "source": [
    "res = 0.5555\n",
    "print('{:.2f}, {:.4f}'.format(res, res))"
   ]
  },
  {
   "cell_type": "code",
   "execution_count": null,
   "metadata": {},
   "outputs": [],
   "source": []
  }
 ],
 "metadata": {
  "kernelspec": {
   "display_name": "torch1.13_cu11.6",
   "language": "python",
   "name": "python3"
  },
  "language_info": {
   "codemirror_mode": {
    "name": "ipython",
    "version": 3
   },
   "file_extension": ".py",
   "mimetype": "text/x-python",
   "name": "python",
   "nbconvert_exporter": "python",
   "pygments_lexer": "ipython3",
   "version": "3.9.19"
  }
 },
 "nbformat": 4,
 "nbformat_minor": 2
}
